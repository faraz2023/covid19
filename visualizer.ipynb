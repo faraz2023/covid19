{
 "cells": [
  {
   "cell_type": "code",
   "execution_count": null,
   "metadata": {},
   "outputs": [],
   "source": [
    "!conda install -c conda-forge geoplot\n",
    "!conda install geopandas\n",
    "!conda install -c anaconda requests\n"
   ]
  },
  {
   "cell_type": "code",
   "execution_count": 32,
   "metadata": {},
   "outputs": [],
   "source": [
    "%matplotlib inline\n",
    "import pandas as pd\n",
    "import requests\n",
    "import io\n",
    "import numpy as np\n",
    "import geoplot\n",
    "import geopandas as gpd\n",
    "from shapely.geometry import Point, Polygon\n",
    "import geoplot.crs as gcrs\n",
    "import mapclassify as mc\n",
    "\n",
    "import matplotlib.pyplot as plt\n",
    "import seaborn as sns\n",
    "\n",
    "sns.set(style=\"ticks\", color_codes=True)\n"
   ]
  },
  {
   "cell_type": "code",
   "execution_count": 33,
   "metadata": {},
   "outputs": [],
   "source": [
    "class OntarioCOVIData:\n",
    "    def __init__(self):\n",
    "        self.data = self.update_data()\n",
    "        \n",
    "    def update_data(self):\n",
    "        data_url = 'https://data.ontario.ca/dataset/f4112442-bdc8-45d2-be3c-12efae72fb27/resource/455fd63b-603d-4608-8216-7d8647f43350/download/conposcovidloc.csv'\n",
    "        data = requests.get(data_url).content\n",
    "        data = pd.read_csv(io.StringIO(data.decode('utf-8')))\n",
    "        data['CLIENT_GENDER'] = data.CLIENT_GENDER.astype('category')\n",
    "        data['Age_Group'] = data.Age_Group.astype('category')\n",
    "        data['OUTCOME1'] = data.OUTCOME1.astype('category')\n",
    "        \n",
    "        data['date'] = pd.to_datetime(data.ACCURATE_EPISODE_DATE, infer_datetime_format=True)\n",
    "        \n",
    "        return data\n",
    "        \n",
    "    def get_data(self):\n",
    "        return self.data\n",
    "\n",
    "    def get_summary_stat(self):\n",
    "        data = self.data\n",
    "        return data.describe()\n",
    "    \n",
    "    def hist_visualize(self, do_save=False):\n",
    "        data = self.data\n",
    "\n",
    "        f, axes = plt.subplots(2, 2, figsize=(20, 20))\n",
    "        \n",
    "        plt1 = sns.countplot(x=\"Age_Group\", hue='OUTCOME1' , palette=\"ch:.25\", data=data, ax=axes[0, 0])\n",
    "        plt1.legend(title='Outcome')\n",
    "        \n",
    "        plt2 = sns.countplot(x=\"CLIENT_GENDER\", hue='OUTCOME1' , palette=\"ch:.25\", data=data, ax=axes[0, 1])\n",
    "        plt2.legend(title='Outcome')\n",
    "        \n",
    "        plt3 = sns.countplot(x=\"CASE_ACQUISITIONINFO\", hue='OUTCOME1' , palette=\"ch:.25\", data=data, ax=axes[1, 0])\n",
    "        plt3.legend(title='Outcome')\n",
    "\n",
    "        if(do_save):\n",
    "            plt.savefig('hist_vis.png')\n",
    "        \n",
    "    def by_day_visualize(self, do_save=False):\n",
    "        data = self.data\n",
    "        \n",
    "        #daily_rate_w_outcome = pd.DataFrame({'count' : data.groupby( [ \"date\", \"OUTCOME1\"] ).size()}).reset_index()\n",
    "        \n",
    "        daily_rate = pd.DataFrame({'accurate_episode_count' : data.groupby( [ \"date\"] ).size()}).reset_index()\n",
    "\n",
    "        daily_total = [0]\n",
    "        for index, row in daily_rate.iterrows():\n",
    "            if(index == 0):\n",
    "                daily_total[0] = 1\n",
    "            else:\n",
    "                daily_total.append(row['accurate_episode_count'] + daily_total[-1])\n",
    "        \n",
    "        \n",
    "        daily_rate['daily_total'] =  daily_total\n",
    "        \n",
    "        daily_rate.plot(kind='bar',x = 'date', y=['accurate_episode_count', 'daily_total'], figsize=(30,30), grid=True)\n",
    "        #plt.xticks(range(0,len(daily_rate.date)), daily_rate.date)\n",
    "        plt.title(\"Data Pulled from data.ontario.ca\")\n",
    "        \n",
    "        if(do_save):\n",
    "            plt.savefig('by_day_vis.png')\n",
    "        plt.show()\n",
    "        \n",
    "\n",
    "    \n",
    "    def load_ontario_map(self):\n",
    "        canada_map = gpd.read_file('./gfed000b11a_e.shp')\n",
    "        #canada_map.crs = 'EPSG:4326'\n",
    "        ontario_map = canada_map.query('PRNAME == \"Ontario\"')\n",
    "       #ontario_map.crs = 'EPSG:4326'\n",
    "        \n",
    "        return ontario_map\n",
    "    \n",
    "    def add_geometry_to_data(self):\n",
    "        data = self.data\n",
    "        \n",
    "        geometry = [Point(xy) for xy in zip(data['Reporting_PHU_Longitude'], data['Reporting_PHU_Latitude'])]\n",
    "        geometry[:3]\n",
    "        #crs = 'EPSG:4326'\n",
    "        ontario_corona_gdf = gpd.GeoDataFrame(data, geometry=geometry)\n",
    "        \n",
    "        self.data = ontario_corona_gdf\n",
    "\n",
    "    def get_phu_info(self):\n",
    "        self.add_geometry_to_data()\n",
    "        data = self.data\n",
    "        \n",
    "        phu_dict = {}\n",
    "        for index, row in data.iterrows():\n",
    "            phu_dict[row['Reporting_PHU']] = row['geometry']\n",
    "\n",
    "\n",
    "        PHU_df = pd.DataFrame({'Reporting_PHU_count' : data.groupby( [ \"Reporting_PHU\"] ).size()}).reset_index()\n",
    "        PHU_df['geometry'] = np.nan\n",
    "        PHU_df['geometry'] = PHU_df.geometry.astype('geometry')\n",
    "\n",
    "        for index, row in PHU_df.iterrows():\n",
    "            PHU_df.at[index, 'geometry'] = phu_dict[row['Reporting_PHU']]\n",
    "            row['geometry'] = 1\n",
    "        \n",
    "        #crs = 'EPSG:4326'\n",
    "        PHU_gdf = gpd.GeoDataFrame(PHU_df, geometry=PHU_df['geometry'])\n",
    "        \n",
    "        PHU_gdf.crs = self.load_ontario_map().crs\n",
    "\n",
    "\n",
    "        return PHU_gdf\n",
    "    \n",
    "    def geo_visualize(self, do_save=False):\n",
    "\n",
    "        ontario_map = ontario_data.load_ontario_map()\n",
    "        phu_gdf = ontario_data.get_phu_info()\n",
    "        \n",
    "        \n",
    "        scheme = mc.FisherJenks(phu_gdf['Reporting_PHU_count'], k=10)\n",
    "\n",
    "        plt_geo = geoplot.quadtree(\n",
    "        phu_gdf, nmax=1,\n",
    "        projection=gcrs.AlbersEqualArea(), clip=ontario_map,\n",
    "        hue='Reporting_PHU_count', cmap='Reds', scheme=scheme,\n",
    "        edgecolor='white', legend=True, figsize=(20,20))\n",
    "        \n",
    "        if(do_save):\n",
    "            plt.savefig('geo_vis.png', bbox_inches='tight')\n",
    "            \n",
    "        return plt_geo\n",
    "    \n",
    "    def donut_visualize(self, do_save=False):\n",
    "    \n",
    "        data = self.data\n",
    "        city_df = pd.DataFrame({'City_Count' : data.groupby( [ \"Reporting_PHU_City\"] ).size()}).reset_index()\n",
    "\n",
    "        #plot = city_df.plot.pie(y='City_Count', figsize=(20,20), labels='Reporting_PHU_City')\n",
    "        \n",
    "        plt_pie = city_df.plot(kind='pie', y = 'City_Count',labels=city_df['Reporting_PHU_City'], legend = True, fontsize=14, figsize=(30,30))\n",
    "        \n",
    "        if(do_save):\n",
    "            plt.figure.savefig('pie_vis.png', bbox_inches='tight')\n",
    "            \n",
    "        return plt_pie\n"
   ]
  },
  {
   "cell_type": "code",
   "execution_count": 34,
   "metadata": {},
   "outputs": [
    {
     "data": {
      "text/html": [
       "<div>\n",
       "<style scoped>\n",
       "    .dataframe tbody tr th:only-of-type {\n",
       "        vertical-align: middle;\n",
       "    }\n",
       "\n",
       "    .dataframe tbody tr th {\n",
       "        vertical-align: top;\n",
       "    }\n",
       "\n",
       "    .dataframe thead th {\n",
       "        text-align: right;\n",
       "    }\n",
       "</style>\n",
       "<table border=\"1\" class=\"dataframe\">\n",
       "  <thead>\n",
       "    <tr style=\"text-align: right;\">\n",
       "      <th></th>\n",
       "      <th>ROW_ID</th>\n",
       "      <th>Reporting_PHU_Latitude</th>\n",
       "      <th>Reporting_PHU_Longitude</th>\n",
       "    </tr>\n",
       "  </thead>\n",
       "  <tbody>\n",
       "    <tr>\n",
       "      <th>count</th>\n",
       "      <td>4347.000000</td>\n",
       "      <td>4347.000000</td>\n",
       "      <td>4347.000000</td>\n",
       "    </tr>\n",
       "    <tr>\n",
       "      <th>mean</th>\n",
       "      <td>2174.000000</td>\n",
       "      <td>43.843120</td>\n",
       "      <td>-79.390178</td>\n",
       "    </tr>\n",
       "    <tr>\n",
       "      <th>std</th>\n",
       "      <td>1255.015139</td>\n",
       "      <td>0.865477</td>\n",
       "      <td>1.778499</td>\n",
       "    </tr>\n",
       "    <tr>\n",
       "      <th>min</th>\n",
       "      <td>1.000000</td>\n",
       "      <td>42.308796</td>\n",
       "      <td>-94.488254</td>\n",
       "    </tr>\n",
       "    <tr>\n",
       "      <th>25%</th>\n",
       "      <td>1087.500000</td>\n",
       "      <td>43.462876</td>\n",
       "      <td>-79.744796</td>\n",
       "    </tr>\n",
       "    <tr>\n",
       "      <th>50%</th>\n",
       "      <td>2174.000000</td>\n",
       "      <td>43.656591</td>\n",
       "      <td>-79.480239</td>\n",
       "    </tr>\n",
       "    <tr>\n",
       "      <th>75%</th>\n",
       "      <td>3260.500000</td>\n",
       "      <td>44.048023</td>\n",
       "      <td>-79.379358</td>\n",
       "    </tr>\n",
       "    <tr>\n",
       "      <th>max</th>\n",
       "      <td>4347.000000</td>\n",
       "      <td>49.769615</td>\n",
       "      <td>-74.736298</td>\n",
       "    </tr>\n",
       "  </tbody>\n",
       "</table>\n",
       "</div>"
      ],
      "text/plain": [
       "            ROW_ID  Reporting_PHU_Latitude  Reporting_PHU_Longitude\n",
       "count  4347.000000             4347.000000              4347.000000\n",
       "mean   2174.000000               43.843120               -79.390178\n",
       "std    1255.015139                0.865477                 1.778499\n",
       "min       1.000000               42.308796               -94.488254\n",
       "25%    1087.500000               43.462876               -79.744796\n",
       "50%    2174.000000               43.656591               -79.480239\n",
       "75%    3260.500000               44.048023               -79.379358\n",
       "max    4347.000000               49.769615               -74.736298"
      ]
     },
     "execution_count": 34,
     "metadata": {},
     "output_type": "execute_result"
    }
   ],
   "source": [
    "ontario_data = OntarioCOVIData()\n",
    "\n",
    "data = ontario_data.get_data()\n",
    "\n",
    "data.head()\n",
    "\n",
    "ontario_data.get_summary_stat()\n"
   ]
  },
  {
   "cell_type": "code",
   "execution_count": 30,
   "metadata": {},
   "outputs": [
    {
     "name": "stderr",
     "output_type": "stream",
     "text": [
      "/Users/farazkhoshbakhtian/opt/anaconda3/envs/corona/lib/python3.8/site-packages/geopandas/geoseries.py:318: UserWarning: GeoSeries.isna() previously returned True for both missing (None) and empty geometries. Now, it only returns True for missing values. Since the calling GeoSeries contains empty geometries, the result has changed compared to previous versions of GeoPandas.\n",
      "Given a GeoSeries 's', you can use 's.is_empty | s.isna()' to get back the old behaviour.\n",
      "\n",
      "To further ignore this warning, you can do: \n",
      "import warnings; warnings.filterwarnings('ignore', 'GeoSeries.isna', UserWarning)\n",
      "  return self.isna()\n"
     ]
    },
    {
     "data": {
      "text/plain": [
       "<module 'matplotlib.pyplot' from '/Users/farazkhoshbakhtian/opt/anaconda3/envs/corona/lib/python3.8/site-packages/matplotlib/pyplot.py'>"
      ]
     },
     "execution_count": 30,
     "metadata": {},
     "output_type": "execute_result"
    },
    {
     "data": {
      "image/png": "[encoded data removed]",
      "text/plain": [
       "<Figure size 1440x1440 with 1 Axes>"
      ]
     },
     "metadata": {},
     "output_type": "display_data"
    }
   ],
   "source": [
    "ontario_data.geo_visualize(do_save=True)"
   ]
  },
  {
   "cell_type": "code",
   "execution_count": null,
   "metadata": {},
   "outputs": [],
   "source": []
  },
  {
   "cell_type": "code",
   "execution_count": 12,
   "metadata": {},
   "outputs": [
    {
     "data": {
      "text/plain": [
       "<module 'matplotlib.pyplot' from '/Users/farazkhoshbakhtian/opt/anaconda3/envs/corona/lib/python3.8/site-packages/matplotlib/pyplot.py'>"
      ]
     },
     "execution_count": 12,
     "metadata": {},
     "output_type": "execute_result"
    }
   ],
   "source": []
  },
  {
   "cell_type": "code",
   "execution_count": null,
   "metadata": {},
   "outputs": [],
   "source": [
    "pl1.get_figure()"
   ]
  },
  {
   "cell_type": "code",
   "execution_count": null,
   "metadata": {},
   "outputs": [],
   "source": [
    "canada_map = gpd.read_file('./gfed000b11a_e.shp')\n",
    "ontario_map = canada_map.query('PRNAME == \"Ontario\"')\n",
    "\n",
    "geometry = [Point(xy) for xy in zip(data['Reporting_PHU_Longitude'], data['Reporting_PHU_Latitude'])]\n",
    "geometry[:3]\n",
    "crs = {'init': 'epsg:4326'}\n",
    "ontario_corona_gdf = gpd.GeoDataFrame(data, crs=crs, geometry=geometry)\n",
    "\n",
    "ontario_corona_geo_locations = gpd.sjoin(ontario_map, PHU_df)\n",
    "\n",
    "ontario_corona_geo_locations.dtypes\n",
    "\n"
   ]
  },
  {
   "cell_type": "code",
   "execution_count": null,
   "metadata": {},
   "outputs": [],
   "source": [
    "\n",
    "phu_dict = {}\n",
    "for index, row in data.iterrows():\n",
    "    phu_dict[row['Reporting_PHU']] = row['geometry']\n",
    "    \n",
    "\n",
    "PHU_df = pd.DataFrame({'Reporting_PHU_count' : data.groupby( [ \"Reporting_PHU\"] ).size()}).reset_index()\n",
    "PHU_df['geometry'] = np.nan\n",
    "PHU_df['geometry'] = PHU_df.geometry.astype('geometry')\n",
    "\n",
    "for index, row in PHU_df.iterrows():\n",
    "    PHU_df.at[index, 'geometry'] = phu_dict[row['Reporting_PHU']]\n",
    "    row['geometry'] = 1\n",
    "\n",
    "\n",
    "PHU_df.head()\n",
    "\n"
   ]
  },
  {
   "cell_type": "code",
   "execution_count": null,
   "metadata": {},
   "outputs": [],
   "source": [
    "vmin, vmax = 120, 220\n",
    "variable = 'Reporting_PHU'\n",
    "fig, ax = plt.subplots(1, figsize=(10, 6))\n",
    "\n",
    "\n",
    "ontario_corona_geo_locations.plot(column=variable, cmap='BuGn', linewidth=0.8, ax=ax, edgecolor='0.8')\n",
    "ax.axis('off')\n",
    "\n",
    "# Create colorbar as a legend\n",
    "\n",
    "'''\n",
    "color='green\n",
    "sm = plt.cm.ScalarMappable(s='geometry', cmap='Accent', norm=plt.Normalize(vmin=vmin, vmax=vmax))\n",
    "# empty array for the data range\n",
    "sm._A = []\n",
    "# add the colorbar to the figure\n",
    "cbar = fig.colorbar(sm)\n",
    "'''\n"
   ]
  },
  {
   "cell_type": "code",
   "execution_count": null,
   "metadata": {},
   "outputs": [],
   "source": [
    "'''\n",
    "ax = geoplot.voronoi(\n",
    "    collisions.head(1000), projection=geoplot.crs.AlbersEqualArea(),\n",
    "    clip=boroughs.simplify(0.001),\n",
    "    hue='NUMBER OF PERSONS INJURED', cmap='Reds',\n",
    "    legend=True,\n",
    "    edgecolor='white'\n",
    ")\n",
    "'''\n",
    "#geoplot.polyplot(ontario_corona_geo_locations, edgecolor='black', zorder=1, ax=ax)\n",
    "\n",
    "geoplot.choropleth(ontario_corona_geo_locations, hue='Shape_Area')"
   ]
  },
  {
   "cell_type": "code",
   "execution_count": null,
   "metadata": {},
   "outputs": [],
   "source": []
  },
  {
   "cell_type": "code",
   "execution_count": null,
   "metadata": {},
   "outputs": [],
   "source": [
    "ontario_corona_gdf = gpd.GeoDataFrame(data, crs=crs, geometry=geometry)\n",
    "\n",
    "ontario_corona_gdf.head()"
   ]
  },
  {
   "cell_type": "code",
   "execution_count": null,
   "metadata": {},
   "outputs": [],
   "source": []
  },
  {
   "cell_type": "code",
   "execution_count": null,
   "metadata": {},
   "outputs": [],
   "source": [
    "fix, ax = plt.subplots(figsize = (15, 15))\n",
    "\n",
    "\n",
    "ontario.plot(ax=ax, color='grey', alpha=0.4)\n",
    "#geo_corona_df[geo_corona_df['OUTCOME1'] == 'Fatal'].plot(ax=ax, markersize= 15, color='red', marker='*', label=\"Fatal\")\n",
    "geo_corona_df[geo_corona_df['OUTCOME1'] == 'Resolved'].plot(ax=ax, markersize= 15, color='blue', marker='*', label=\"Fatal\")\n",
    "\n",
    "\n",
    "#plt.legend(prop={'size': 15})"
   ]
  },
  {
   "cell_type": "code",
   "execution_count": null,
   "metadata": {},
   "outputs": [],
   "source": [
    "data['OUTCOME1']"
   ]
  },
  {
   "cell_type": "code",
   "execution_count": null,
   "metadata": {},
   "outputs": [],
   "source": []
  }
 ],
 "metadata": {
  "kernelspec": {
   "display_name": "corona",
   "language": "python",
   "name": "corona"
  },
  "language_info": {
   "codemirror_mode": {
    "name": "ipython",
    "version": 3
   },
   "file_extension": ".py",
   "mimetype": "text/x-python",
   "name": "python",
   "nbconvert_exporter": "python",
   "pygments_lexer": "ipython3",
   "version": "3.8.2"
  }
 },
 "nbformat": 4,
 "nbformat_minor": 4
}
